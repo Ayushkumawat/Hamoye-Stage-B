{
 "cells": [
  {
   "cell_type": "code",
   "execution_count": 24,
   "id": "35e5407d",
   "metadata": {},
   "outputs": [],
   "source": [
    "import numpy as np\n",
    "import pandas as pd\n",
    "import matplotlib.pyplot as plt\n",
    "from sklearn import preprocessing"
   ]
  },
  {
   "cell_type": "code",
   "execution_count": 13,
   "id": "72472677",
   "metadata": {},
   "outputs": [],
   "source": [
    "data = pd.read_csv(\"C:/Users/ayuku/Downloads/energydata_complete.csv\")\n",
    "x = data['T2']\n",
    "y = data['T6']"
   ]
  },
  {
   "cell_type": "code",
   "execution_count": 16,
   "id": "270cd792",
   "metadata": {},
   "outputs": [],
   "source": [
    "def linear_regression(x, y):     \n",
    "    N = len(x)\n",
    "    x_mean = x.mean()\n",
    "    y_mean = y.mean()\n",
    "    \n",
    "    B1_num = ((x - x_mean) * (y - y_mean)).sum()\n",
    "    B1_den = ((x - x_mean)**2).sum()\n",
    "    B1 = B1_num / B1_den\n",
    "    \n",
    "    B0 = y_mean - (B1*x_mean)\n",
    "    \n",
    "    reg_line = 'y = {} + {}β'.format(B0, round(B1, 3))\n",
    "    \n",
    "    return (B0, B1, reg_line)"
   ]
  },
  {
   "cell_type": "code",
   "execution_count": 17,
   "id": "a6b844c0",
   "metadata": {},
   "outputs": [],
   "source": [
    "N = len(x)\n",
    "x_mean = x.mean()\n",
    "y_mean = y.mean()"
   ]
  },
  {
   "cell_type": "code",
   "execution_count": 18,
   "id": "c0b52080",
   "metadata": {},
   "outputs": [],
   "source": [
    "B1_num = ((x - x_mean) * (y - y_mean)).sum()\n",
    "B1_den = ((x - x_mean)**2).sum()\n",
    "B1 = B1_num / B1_den"
   ]
  },
  {
   "cell_type": "code",
   "execution_count": 19,
   "id": "7644559d",
   "metadata": {},
   "outputs": [],
   "source": [
    "B0 = y_mean - (B1 * x_mean)"
   ]
  },
  {
   "cell_type": "code",
   "execution_count": 20,
   "id": "6e99f6a1",
   "metadata": {},
   "outputs": [],
   "source": [
    "def corr_coef(x, y):\n",
    "    N = len(x)\n",
    "    \n",
    "    num = (N * (x*y).sum()) - (x.sum() * y.sum())\n",
    "    den = np.sqrt((N * (x**2).sum() - x.sum()**2) * (N * (y**2).sum() - y.sum()**2))\n",
    "    R = num / den\n",
    "    return R"
   ]
  },
  {
   "cell_type": "code",
   "execution_count": 21,
   "id": "b422e92d",
   "metadata": {},
   "outputs": [
    {
     "name": "stdout",
     "output_type": "stream",
     "text": [
      "Regression Line:  y = -37.34952263844538 + 2.225β\n",
      "Correlation Coef.:  0.8011860477351956\n",
      "\"Goodness of Fit\":  0.6418990830855432\n"
     ]
    }
   ],
   "source": [
    "B0, B1, reg_line = linear_regression(x, y)\n",
    "print('Regression Line: ', reg_line)\n",
    "R = corr_coef(x, y)\n",
    "print('Correlation Coef.: ', R)\n",
    "print('\"Goodness of Fit\": ', R**2)"
   ]
  },
  {
   "cell_type": "code",
   "execution_count": 25,
   "id": "84586c3e",
   "metadata": {},
   "outputs": [
    {
     "name": "stdout",
     "output_type": "stream",
     "text": [
      "[[0.00668031 0.00668031 0.00668031 ... 0.00891702 0.00884236 0.00879027]]\n"
     ]
    }
   ],
   "source": [
    "normalized_arr = preprocessing.normalize([x])\n",
    "print(normalized_arr)"
   ]
  },
  {
   "cell_type": "code",
   "execution_count": 27,
   "id": "62d18012",
   "metadata": {},
   "outputs": [],
   "source": [
    "del data['date']"
   ]
  },
  {
   "cell_type": "code",
   "execution_count": 28,
   "id": "5f2c7162",
   "metadata": {},
   "outputs": [],
   "source": [
    "del data['lights']"
   ]
  },
  {
   "cell_type": "code",
   "execution_count": 29,
   "id": "7cd0e13c",
   "metadata": {},
   "outputs": [
    {
     "name": "stdout",
     "output_type": "stream",
     "text": [
      "[[0.00668031 0.00668031 0.00668031 ... 0.00891702 0.00884236 0.00879027]]\n"
     ]
    }
   ],
   "source": [
    "normalized_arr = preprocessing.normalize([x])\n",
    "print(normalized_arr)"
   ]
  },
  {
   "cell_type": "code",
   "execution_count": null,
   "id": "2ab6bb83",
   "metadata": {},
   "outputs": [],
   "source": []
  }
 ],
 "metadata": {
  "kernelspec": {
   "display_name": "Python 3 (ipykernel)",
   "language": "python",
   "name": "python3"
  },
  "language_info": {
   "codemirror_mode": {
    "name": "ipython",
    "version": 3
   },
   "file_extension": ".py",
   "mimetype": "text/x-python",
   "name": "python",
   "nbconvert_exporter": "python",
   "pygments_lexer": "ipython3",
   "version": "3.8.0"
  }
 },
 "nbformat": 4,
 "nbformat_minor": 5
}
